{
 "cells": [
  {
   "cell_type": "code",
   "execution_count": 1,
   "metadata": {
    "colab": {
     "base_uri": "https://localhost:8080/"
    },
    "id": "AROMFS4N-jot",
    "outputId": "745015f3-e954-4eb5-a485-4407ab2d1039"
   },
   "outputs": [
    {
     "name": "stdout",
     "output_type": "stream",
     "text": [
      "Symbol 01: ^VIX\n",
      "Symbol 02: ^VIX3M\n",
      "Symbol 03: SPY\n",
      "Days in future that result is calculated: 252\n",
      "reversion_low_value: 12\n",
      "reversion_high_value: 20\n",
      "optimization_max_epochs: 20\n",
      "optimization_max_hidden_layers: 10\n",
      "optimization_max_nodes: 200\n",
      "Scale data: Y\n",
      "input_column_list_for_X: ['^VIX_close', '^VIX3M_close']\n",
      "output_col_for_y: ['future_result_boolean']\n"
     ]
    }
   ],
   "source": [
    "# Import our dependencies\n",
    "import pandas as pd\n",
    "import matplotlib.pyplot as plt\n",
    "import sklearn as skl\n",
    "from sklearn.model_selection import train_test_split\n",
    "from sklearn.preprocessing import StandardScaler\n",
    "from sklearn.preprocessing import MinMaxScaler\n",
    "from sklearn.metrics import accuracy_score\n",
    "import tensorflow as tf\n",
    "\n",
    "# ***************************\n",
    "# ***                     ***\n",
    "# ***    SET VARIABLES    ***\n",
    "# ***                     ***\n",
    "# ***************************\n",
    "\n",
    "\n",
    "# STOCK SYMBOL TO PROCESS:\n",
    "input_symbol_01 = \"^VIX\"\n",
    "print(f\"Symbol 01: {input_symbol_01}\")\n",
    "input_symbol_02 = \"^VIX3M\"\n",
    "print(f\"Symbol 02: {input_symbol_02}\")\n",
    "input_symbol_03 = \"SPY\"\n",
    "print(f\"Symbol 03: {input_symbol_03}\")\n",
    "\n",
    "days_in_future_that_result_is_calculated = 252\n",
    "print(f\"Days in future that result is calculated: {days_in_future_that_result_is_calculated}\")\n",
    "\n",
    "reversion_low_value = 12\n",
    "print(f\"reversion_low_value: {reversion_low_value}\")\n",
    "\n",
    "reversion_high_value = 20\n",
    "print(f\"reversion_high_value: {reversion_high_value}\")\n",
    "\n",
    "optimization_max_epochs = 20\n",
    "print(f\"optimization_max_epochs: {optimization_max_epochs}\")\n",
    "\n",
    "# Max 10:\n",
    "optimization_max_hidden_layers = 10\n",
    "print(f\"optimization_max_hidden_layers: {optimization_max_hidden_layers}\")\n",
    "\n",
    "optimization_max_nodes = 200\n",
    "print(f\"optimization_max_nodes: {optimization_max_nodes}\")\n",
    "\n",
    "# SCALE THE DATA? \"Y\" or \"N\":\n",
    "scale_data = \"Y\"\n",
    "print(f\"Scale data: {scale_data}\")\n",
    "\n",
    "# Create a StandardScaler instance\n",
    "# scaler = StandardScaler()\n",
    "# relu_only = False\n",
    "\n",
    "# Create a MinMaxScaler instance\n",
    "scaler = MinMaxScaler()\n",
    "relu_only = True\n",
    "\n",
    "input_column_list_for_X = [\n",
    "    input_symbol_01+\"_close\"\n",
    "    , \n",
    "    input_symbol_02+\"_close\"\n",
    "    # , \n",
    "    # \"percentage\"\n",
    "    # ,\n",
    "    # \"percentage_boolean\"\n",
    "    # ,\n",
    "    # \"reversion_boolean\"\n",
    "    # , \n",
    "    # input_symbol_03+\"_close\"\n",
    "    ]\n",
    "print (f\"input_column_list_for_X: {input_column_list_for_X}\")\n",
    "\n",
    "output_col_for_y = [\n",
    "    # \"future_result\"\n",
    "    \"future_result_boolean\"\n",
    "    ]\n",
    "print (f\"output_col_for_y: {output_col_for_y}\")\n",
    "\n",
    "if (input_column_list_for_X == ['percentage_boolean', 'reversion_boolean']) & (output_col_for_y == ['future_result_boolean']):\n",
    "  relu_only = True"
   ]
  },
  {
   "cell_type": "code",
   "execution_count": 2,
   "metadata": {
    "colab": {
     "base_uri": "https://localhost:8080/"
    },
    "id": "DRVDUu5nMiQk",
    "outputId": "6125cc53-84ee-427b-ec6b-070341eacce6"
   },
   "outputs": [
    {
     "name": "stdout",
     "output_type": "stream",
     "text": [
      "Requirement already satisfied: yahoo_fin in c:\\users\\mlech\\anaconda3\\lib\\site-packages (0.8.9.1)\n",
      "Requirement already satisfied: requests-html in c:\\users\\mlech\\anaconda3\\lib\\site-packages (from yahoo_fin) (0.10.0)\n",
      "Requirement already satisfied: feedparser in c:\\users\\mlech\\anaconda3\\lib\\site-packages (from yahoo_fin) (6.0.10)\n",
      "Requirement already satisfied: requests in c:\\users\\mlech\\anaconda3\\lib\\site-packages (from yahoo_fin) (2.32.3)\n",
      "Requirement already satisfied: pandas in c:\\users\\mlech\\anaconda3\\lib\\site-packages (from yahoo_fin) (1.4.4)\n",
      "Requirement already satisfied: sgmllib3k in c:\\users\\mlech\\anaconda3\\lib\\site-packages (from feedparser->yahoo_fin) (1.0.0)\n",
      "Requirement already satisfied: python-dateutil>=2.8.1 in c:\\users\\mlech\\anaconda3\\lib\\site-packages (from pandas->yahoo_fin) (2.8.2)\n",
      "Requirement already satisfied: pytz>=2020.1 in c:\\users\\mlech\\anaconda3\\lib\\site-packages (from pandas->yahoo_fin) (2022.7)\n",
      "Requirement already satisfied: numpy>=1.18.5 in c:\\users\\mlech\\anaconda3\\lib\\site-packages (from pandas->yahoo_fin) (1.23.5)\n",
      "Requirement already satisfied: charset-normalizer<4,>=2 in c:\\users\\mlech\\anaconda3\\lib\\site-packages (from requests->yahoo_fin) (2.0.4)\n",
      "Requirement already satisfied: idna<4,>=2.5 in c:\\users\\mlech\\anaconda3\\lib\\site-packages (from requests->yahoo_fin) (3.4)\n",
      "Requirement already satisfied: urllib3<3,>=1.21.1 in c:\\users\\mlech\\anaconda3\\lib\\site-packages (from requests->yahoo_fin) (1.26.14)\n",
      "Requirement already satisfied: certifi>=2017.4.17 in c:\\users\\mlech\\anaconda3\\lib\\site-packages (from requests->yahoo_fin) (2022.12.7)\n",
      "Requirement already satisfied: pyquery in c:\\users\\mlech\\anaconda3\\lib\\site-packages (from requests-html->yahoo_fin) (2.0.0)\n",
      "Requirement already satisfied: fake-useragent in c:\\users\\mlech\\anaconda3\\lib\\site-packages (from requests-html->yahoo_fin) (1.1.3)\n",
      "Requirement already satisfied: parse in c:\\users\\mlech\\anaconda3\\lib\\site-packages (from requests-html->yahoo_fin) (1.19.0)\n",
      "Requirement already satisfied: bs4 in c:\\users\\mlech\\anaconda3\\lib\\site-packages (from requests-html->yahoo_fin) (0.0.1)\n",
      "Requirement already satisfied: w3lib in c:\\users\\mlech\\anaconda3\\lib\\site-packages (from requests-html->yahoo_fin) (1.21.0)\n",
      "Requirement already satisfied: pyppeteer>=0.0.14 in c:\\users\\mlech\\anaconda3\\lib\\site-packages (from requests-html->yahoo_fin) (1.0.2)\n",
      "Requirement already satisfied: appdirs<2.0.0,>=1.4.3 in c:\\users\\mlech\\anaconda3\\lib\\site-packages (from pyppeteer>=0.0.14->requests-html->yahoo_fin) (1.4.4)\n",
      "Requirement already satisfied: importlib-metadata>=1.4 in c:\\users\\mlech\\anaconda3\\lib\\site-packages (from pyppeteer>=0.0.14->requests-html->yahoo_fin) (4.11.3)\n",
      "Requirement already satisfied: pyee<9.0.0,>=8.1.0 in c:\\users\\mlech\\anaconda3\\lib\\site-packages (from pyppeteer>=0.0.14->requests-html->yahoo_fin) (8.2.2)\n",
      "Requirement already satisfied: tqdm<5.0.0,>=4.42.1 in c:\\users\\mlech\\anaconda3\\lib\\site-packages (from pyppeteer>=0.0.14->requests-html->yahoo_fin) (4.64.1)\n",
      "Requirement already satisfied: websockets<11.0,>=10.0 in c:\\users\\mlech\\anaconda3\\lib\\site-packages (from pyppeteer>=0.0.14->requests-html->yahoo_fin) (10.4)\n",
      "Requirement already satisfied: six>=1.5 in c:\\users\\mlech\\anaconda3\\lib\\site-packages (from python-dateutil>=2.8.1->pandas->yahoo_fin) (1.16.0)\n",
      "Requirement already satisfied: beautifulsoup4 in c:\\users\\mlech\\anaconda3\\lib\\site-packages (from bs4->requests-html->yahoo_fin) (4.11.1)\n",
      "Requirement already satisfied: importlib-resources>=5.0 in c:\\users\\mlech\\anaconda3\\lib\\site-packages (from fake-useragent->requests-html->yahoo_fin) (5.12.0)\n",
      "Requirement already satisfied: lxml>=2.1 in c:\\users\\mlech\\anaconda3\\lib\\site-packages (from pyquery->requests-html->yahoo_fin) (4.9.1)\n",
      "Requirement already satisfied: cssselect>=1.2.0 in c:\\users\\mlech\\anaconda3\\lib\\site-packages (from pyquery->requests-html->yahoo_fin) (1.2.0)\n",
      "Requirement already satisfied: zipp>=0.5 in c:\\users\\mlech\\anaconda3\\lib\\site-packages (from importlib-metadata>=1.4->pyppeteer>=0.0.14->requests-html->yahoo_fin) (3.11.0)\n",
      "Requirement already satisfied: colorama in c:\\users\\mlech\\anaconda3\\lib\\site-packages (from tqdm<5.0.0,>=4.42.1->pyppeteer>=0.0.14->requests-html->yahoo_fin) (0.4.6)\n",
      "Requirement already satisfied: soupsieve>1.2 in c:\\users\\mlech\\anaconda3\\lib\\site-packages (from beautifulsoup4->bs4->requests-html->yahoo_fin) (2.3.2.post1)\n",
      "Note: you may need to restart the kernel to use updated packages.\n"
     ]
    },
    {
     "name": "stderr",
     "output_type": "stream",
     "text": [
      "WARNING: Ignoring invalid distribution -atplotlib (c:\\users\\mlech\\anaconda3\\lib\\site-packages)\n",
      "WARNING: Ignoring invalid distribution -atplotlib (c:\\users\\mlech\\anaconda3\\lib\\site-packages)\n",
      "WARNING: Ignoring invalid distribution -atplotlib (c:\\users\\mlech\\anaconda3\\lib\\site-packages)\n"
     ]
    }
   ],
   "source": [
    "pip install yahoo_fin"
   ]
  },
  {
   "cell_type": "code",
   "execution_count": 3,
   "metadata": {
    "id": "tFlmhBZsM0r3"
   },
   "outputs": [],
   "source": [
    "# pip install requests_html"
   ]
  },
  {
   "cell_type": "code",
   "execution_count": 4,
   "metadata": {
    "id": "6Mb-Apq5M02C"
   },
   "outputs": [],
   "source": [
    "from yahoo_fin.stock_info import get_data"
   ]
  },
  {
   "cell_type": "code",
   "execution_count": 5,
   "metadata": {
    "colab": {
     "base_uri": "https://localhost:8080/",
     "height": 424
    },
    "id": "UnqxppL_M05x",
    "outputId": "4d180d00-5153-4ac5-dc8b-d0b76c622257"
   },
   "outputs": [
    {
     "data": {
      "text/html": [
       "<div>\n",
       "<style scoped>\n",
       "    .dataframe tbody tr th:only-of-type {\n",
       "        vertical-align: middle;\n",
       "    }\n",
       "\n",
       "    .dataframe tbody tr th {\n",
       "        vertical-align: top;\n",
       "    }\n",
       "\n",
       "    .dataframe thead th {\n",
       "        text-align: right;\n",
       "    }\n",
       "</style>\n",
       "<table border=\"1\" class=\"dataframe\">\n",
       "  <thead>\n",
       "    <tr style=\"text-align: right;\">\n",
       "      <th></th>\n",
       "      <th>date</th>\n",
       "      <th>open</th>\n",
       "      <th>high</th>\n",
       "      <th>low</th>\n",
       "      <th>close</th>\n",
       "      <th>adjclose</th>\n",
       "      <th>volume</th>\n",
       "      <th>ticker</th>\n",
       "    </tr>\n",
       "  </thead>\n",
       "  <tbody>\n",
       "    <tr>\n",
       "      <th>0</th>\n",
       "      <td>2000-01-03</td>\n",
       "      <td>24.360001</td>\n",
       "      <td>26.150000</td>\n",
       "      <td>23.980000</td>\n",
       "      <td>24.209999</td>\n",
       "      <td>24.209999</td>\n",
       "      <td>0.0</td>\n",
       "      <td>^VIX</td>\n",
       "    </tr>\n",
       "    <tr>\n",
       "      <th>1</th>\n",
       "      <td>2000-01-04</td>\n",
       "      <td>24.940001</td>\n",
       "      <td>27.180000</td>\n",
       "      <td>24.799999</td>\n",
       "      <td>27.010000</td>\n",
       "      <td>27.010000</td>\n",
       "      <td>0.0</td>\n",
       "      <td>^VIX</td>\n",
       "    </tr>\n",
       "    <tr>\n",
       "      <th>2</th>\n",
       "      <td>2000-01-05</td>\n",
       "      <td>27.980000</td>\n",
       "      <td>29.000000</td>\n",
       "      <td>25.850000</td>\n",
       "      <td>26.410000</td>\n",
       "      <td>26.410000</td>\n",
       "      <td>0.0</td>\n",
       "      <td>^VIX</td>\n",
       "    </tr>\n",
       "    <tr>\n",
       "      <th>3</th>\n",
       "      <td>2000-01-06</td>\n",
       "      <td>26.680000</td>\n",
       "      <td>26.709999</td>\n",
       "      <td>24.700001</td>\n",
       "      <td>25.730000</td>\n",
       "      <td>25.730000</td>\n",
       "      <td>0.0</td>\n",
       "      <td>^VIX</td>\n",
       "    </tr>\n",
       "    <tr>\n",
       "      <th>4</th>\n",
       "      <td>2000-01-07</td>\n",
       "      <td>25.139999</td>\n",
       "      <td>25.170000</td>\n",
       "      <td>21.719999</td>\n",
       "      <td>21.719999</td>\n",
       "      <td>21.719999</td>\n",
       "      <td>0.0</td>\n",
       "      <td>^VIX</td>\n",
       "    </tr>\n",
       "    <tr>\n",
       "      <th>...</th>\n",
       "      <td>...</td>\n",
       "      <td>...</td>\n",
       "      <td>...</td>\n",
       "      <td>...</td>\n",
       "      <td>...</td>\n",
       "      <td>...</td>\n",
       "      <td>...</td>\n",
       "      <td>...</td>\n",
       "    </tr>\n",
       "    <tr>\n",
       "      <th>6472</th>\n",
       "      <td>2024-10-23</td>\n",
       "      <td>18.209999</td>\n",
       "      <td>20.469999</td>\n",
       "      <td>18.180000</td>\n",
       "      <td>19.240000</td>\n",
       "      <td>19.240000</td>\n",
       "      <td>0.0</td>\n",
       "      <td>^VIX</td>\n",
       "    </tr>\n",
       "    <tr>\n",
       "      <th>6473</th>\n",
       "      <td>2024-10-24</td>\n",
       "      <td>18.870001</td>\n",
       "      <td>20.240000</td>\n",
       "      <td>18.629999</td>\n",
       "      <td>19.080000</td>\n",
       "      <td>19.080000</td>\n",
       "      <td>0.0</td>\n",
       "      <td>^VIX</td>\n",
       "    </tr>\n",
       "    <tr>\n",
       "      <th>6474</th>\n",
       "      <td>2024-10-25</td>\n",
       "      <td>19.219999</td>\n",
       "      <td>20.510000</td>\n",
       "      <td>18.230000</td>\n",
       "      <td>20.330000</td>\n",
       "      <td>20.330000</td>\n",
       "      <td>0.0</td>\n",
       "      <td>^VIX</td>\n",
       "    </tr>\n",
       "    <tr>\n",
       "      <th>6475</th>\n",
       "      <td>2024-10-28</td>\n",
       "      <td>19.110001</td>\n",
       "      <td>19.879999</td>\n",
       "      <td>18.910000</td>\n",
       "      <td>19.799999</td>\n",
       "      <td>19.799999</td>\n",
       "      <td>0.0</td>\n",
       "      <td>^VIX</td>\n",
       "    </tr>\n",
       "    <tr>\n",
       "      <th>6476</th>\n",
       "      <td>2024-10-29</td>\n",
       "      <td>19.750000</td>\n",
       "      <td>20.530001</td>\n",
       "      <td>19.059999</td>\n",
       "      <td>19.340000</td>\n",
       "      <td>19.340000</td>\n",
       "      <td>0.0</td>\n",
       "      <td>^VIX</td>\n",
       "    </tr>\n",
       "  </tbody>\n",
       "</table>\n",
       "<p>6477 rows × 8 columns</p>\n",
       "</div>"
      ],
      "text/plain": [
       "           date       open       high        low      close   adjclose  \\\n",
       "0    2000-01-03  24.360001  26.150000  23.980000  24.209999  24.209999   \n",
       "1    2000-01-04  24.940001  27.180000  24.799999  27.010000  27.010000   \n",
       "2    2000-01-05  27.980000  29.000000  25.850000  26.410000  26.410000   \n",
       "3    2000-01-06  26.680000  26.709999  24.700001  25.730000  25.730000   \n",
       "4    2000-01-07  25.139999  25.170000  21.719999  21.719999  21.719999   \n",
       "...         ...        ...        ...        ...        ...        ...   \n",
       "6472 2024-10-23  18.209999  20.469999  18.180000  19.240000  19.240000   \n",
       "6473 2024-10-24  18.870001  20.240000  18.629999  19.080000  19.080000   \n",
       "6474 2024-10-25  19.219999  20.510000  18.230000  20.330000  20.330000   \n",
       "6475 2024-10-28  19.110001  19.879999  18.910000  19.799999  19.799999   \n",
       "6476 2024-10-29  19.750000  20.530001  19.059999  19.340000  19.340000   \n",
       "\n",
       "      volume ticker  \n",
       "0        0.0   ^VIX  \n",
       "1        0.0   ^VIX  \n",
       "2        0.0   ^VIX  \n",
       "3        0.0   ^VIX  \n",
       "4        0.0   ^VIX  \n",
       "...      ...    ...  \n",
       "6472     0.0   ^VIX  \n",
       "6473     0.0   ^VIX  \n",
       "6474     0.0   ^VIX  \n",
       "6475     0.0   ^VIX  \n",
       "6476     0.0   ^VIX  \n",
       "\n",
       "[6477 rows x 8 columns]"
      ]
     },
     "execution_count": 5,
     "metadata": {},
     "output_type": "execute_result"
    }
   ],
   "source": [
    "# Load ticker1 historical data from Yahoo Finance API\n",
    "from datetime import date\n",
    "today = date.today()\n",
    "curr_date = today.strftime(\"%m/%d/%Y\")\n",
    "df_01 = get_data(input_symbol_01, start_date=\"01/01/2000\", end_date=curr_date, index_as_date = False, interval=\"1d\")\n",
    "df_01_min_date = (df_01.iloc[0][\"date\"])\n",
    "df_01"
   ]
  },
  {
   "cell_type": "code",
   "execution_count": 6,
   "metadata": {
    "colab": {
     "base_uri": "https://localhost:8080/",
     "height": 424
    },
    "id": "ottqnl2FVwGT",
    "outputId": "6623bbc0-436b-4bd9-d0bc-854d62ddbc50"
   },
   "outputs": [
    {
     "data": {
      "text/html": [
       "<div>\n",
       "<style scoped>\n",
       "    .dataframe tbody tr th:only-of-type {\n",
       "        vertical-align: middle;\n",
       "    }\n",
       "\n",
       "    .dataframe tbody tr th {\n",
       "        vertical-align: top;\n",
       "    }\n",
       "\n",
       "    .dataframe thead th {\n",
       "        text-align: right;\n",
       "    }\n",
       "</style>\n",
       "<table border=\"1\" class=\"dataframe\">\n",
       "  <thead>\n",
       "    <tr style=\"text-align: right;\">\n",
       "      <th></th>\n",
       "      <th>date</th>\n",
       "      <th>open</th>\n",
       "      <th>high</th>\n",
       "      <th>low</th>\n",
       "      <th>close</th>\n",
       "      <th>adjclose</th>\n",
       "      <th>volume</th>\n",
       "      <th>ticker</th>\n",
       "    </tr>\n",
       "  </thead>\n",
       "  <tbody>\n",
       "    <tr>\n",
       "      <th>0</th>\n",
       "      <td>2006-07-17</td>\n",
       "      <td>18.049999</td>\n",
       "      <td>18.049999</td>\n",
       "      <td>18.049999</td>\n",
       "      <td>18.049999</td>\n",
       "      <td>18.049999</td>\n",
       "      <td>0</td>\n",
       "      <td>^VIX3M</td>\n",
       "    </tr>\n",
       "    <tr>\n",
       "      <th>1</th>\n",
       "      <td>2006-07-18</td>\n",
       "      <td>17.219999</td>\n",
       "      <td>17.219999</td>\n",
       "      <td>17.219999</td>\n",
       "      <td>17.219999</td>\n",
       "      <td>17.219999</td>\n",
       "      <td>0</td>\n",
       "      <td>^VIX3M</td>\n",
       "    </tr>\n",
       "    <tr>\n",
       "      <th>2</th>\n",
       "      <td>2006-07-19</td>\n",
       "      <td>15.600000</td>\n",
       "      <td>15.600000</td>\n",
       "      <td>15.600000</td>\n",
       "      <td>15.600000</td>\n",
       "      <td>15.600000</td>\n",
       "      <td>0</td>\n",
       "      <td>^VIX3M</td>\n",
       "    </tr>\n",
       "    <tr>\n",
       "      <th>3</th>\n",
       "      <td>2006-07-20</td>\n",
       "      <td>16.309999</td>\n",
       "      <td>16.309999</td>\n",
       "      <td>16.309999</td>\n",
       "      <td>16.309999</td>\n",
       "      <td>16.309999</td>\n",
       "      <td>0</td>\n",
       "      <td>^VIX3M</td>\n",
       "    </tr>\n",
       "    <tr>\n",
       "      <th>4</th>\n",
       "      <td>2006-07-21</td>\n",
       "      <td>17.040001</td>\n",
       "      <td>17.040001</td>\n",
       "      <td>17.040001</td>\n",
       "      <td>17.040001</td>\n",
       "      <td>17.040001</td>\n",
       "      <td>0</td>\n",
       "      <td>^VIX3M</td>\n",
       "    </tr>\n",
       "    <tr>\n",
       "      <th>...</th>\n",
       "      <td>...</td>\n",
       "      <td>...</td>\n",
       "      <td>...</td>\n",
       "      <td>...</td>\n",
       "      <td>...</td>\n",
       "      <td>...</td>\n",
       "      <td>...</td>\n",
       "      <td>...</td>\n",
       "    </tr>\n",
       "    <tr>\n",
       "      <th>4599</th>\n",
       "      <td>2024-10-23</td>\n",
       "      <td>19.400000</td>\n",
       "      <td>20.820000</td>\n",
       "      <td>19.280001</td>\n",
       "      <td>20.040001</td>\n",
       "      <td>20.040001</td>\n",
       "      <td>0</td>\n",
       "      <td>^VIX3M</td>\n",
       "    </tr>\n",
       "    <tr>\n",
       "      <th>4600</th>\n",
       "      <td>2024-10-24</td>\n",
       "      <td>19.799999</td>\n",
       "      <td>20.770000</td>\n",
       "      <td>19.760000</td>\n",
       "      <td>19.850000</td>\n",
       "      <td>19.850000</td>\n",
       "      <td>0</td>\n",
       "      <td>^VIX3M</td>\n",
       "    </tr>\n",
       "    <tr>\n",
       "      <th>4601</th>\n",
       "      <td>2024-10-25</td>\n",
       "      <td>19.500000</td>\n",
       "      <td>21.040001</td>\n",
       "      <td>19.040001</td>\n",
       "      <td>20.940001</td>\n",
       "      <td>20.940001</td>\n",
       "      <td>0</td>\n",
       "      <td>^VIX3M</td>\n",
       "    </tr>\n",
       "    <tr>\n",
       "      <th>4602</th>\n",
       "      <td>2024-10-28</td>\n",
       "      <td>20.100000</td>\n",
       "      <td>20.469999</td>\n",
       "      <td>19.840000</td>\n",
       "      <td>20.170000</td>\n",
       "      <td>20.170000</td>\n",
       "      <td>0</td>\n",
       "      <td>^VIX3M</td>\n",
       "    </tr>\n",
       "    <tr>\n",
       "      <th>4603</th>\n",
       "      <td>2024-10-29</td>\n",
       "      <td>20.440001</td>\n",
       "      <td>20.590000</td>\n",
       "      <td>19.690001</td>\n",
       "      <td>19.959999</td>\n",
       "      <td>19.959999</td>\n",
       "      <td>0</td>\n",
       "      <td>^VIX3M</td>\n",
       "    </tr>\n",
       "  </tbody>\n",
       "</table>\n",
       "<p>4604 rows × 8 columns</p>\n",
       "</div>"
      ],
      "text/plain": [
       "           date       open       high        low      close   adjclose  \\\n",
       "0    2006-07-17  18.049999  18.049999  18.049999  18.049999  18.049999   \n",
       "1    2006-07-18  17.219999  17.219999  17.219999  17.219999  17.219999   \n",
       "2    2006-07-19  15.600000  15.600000  15.600000  15.600000  15.600000   \n",
       "3    2006-07-20  16.309999  16.309999  16.309999  16.309999  16.309999   \n",
       "4    2006-07-21  17.040001  17.040001  17.040001  17.040001  17.040001   \n",
       "...         ...        ...        ...        ...        ...        ...   \n",
       "4599 2024-10-23  19.400000  20.820000  19.280001  20.040001  20.040001   \n",
       "4600 2024-10-24  19.799999  20.770000  19.760000  19.850000  19.850000   \n",
       "4601 2024-10-25  19.500000  21.040001  19.040001  20.940001  20.940001   \n",
       "4602 2024-10-28  20.100000  20.469999  19.840000  20.170000  20.170000   \n",
       "4603 2024-10-29  20.440001  20.590000  19.690001  19.959999  19.959999   \n",
       "\n",
       "      volume  ticker  \n",
       "0          0  ^VIX3M  \n",
       "1          0  ^VIX3M  \n",
       "2          0  ^VIX3M  \n",
       "3          0  ^VIX3M  \n",
       "4          0  ^VIX3M  \n",
       "...      ...     ...  \n",
       "4599       0  ^VIX3M  \n",
       "4600       0  ^VIX3M  \n",
       "4601       0  ^VIX3M  \n",
       "4602       0  ^VIX3M  \n",
       "4603       0  ^VIX3M  \n",
       "\n",
       "[4604 rows x 8 columns]"
      ]
     },
     "execution_count": 6,
     "metadata": {},
     "output_type": "execute_result"
    }
   ],
   "source": [
    "# Load ticker2 historical data from Yahoo Finance API\n",
    "from datetime import date\n",
    "today = date.today()\n",
    "curr_date = today.strftime(\"%m/%d/%Y\")\n",
    "df_02 = get_data(input_symbol_02, start_date=\"01/01/2000\", end_date=curr_date, index_as_date = False, interval=\"1d\")\n",
    "df_02_min_date = (df_02.iloc[0][\"date\"])\n",
    "df_02"
   ]
  },
  {
   "cell_type": "code",
   "execution_count": 7,
   "metadata": {
    "colab": {
     "base_uri": "https://localhost:8080/",
     "height": 424
    },
    "id": "eDVSByQvVwKb",
    "outputId": "dc9fadc0-7322-4b3c-f9ed-e70fbf299c8c"
   },
   "outputs": [
    {
     "data": {
      "text/html": [
       "<div>\n",
       "<style scoped>\n",
       "    .dataframe tbody tr th:only-of-type {\n",
       "        vertical-align: middle;\n",
       "    }\n",
       "\n",
       "    .dataframe tbody tr th {\n",
       "        vertical-align: top;\n",
       "    }\n",
       "\n",
       "    .dataframe thead th {\n",
       "        text-align: right;\n",
       "    }\n",
       "</style>\n",
       "<table border=\"1\" class=\"dataframe\">\n",
       "  <thead>\n",
       "    <tr style=\"text-align: right;\">\n",
       "      <th></th>\n",
       "      <th>date</th>\n",
       "      <th>open</th>\n",
       "      <th>high</th>\n",
       "      <th>low</th>\n",
       "      <th>close</th>\n",
       "      <th>adjclose</th>\n",
       "      <th>volume</th>\n",
       "      <th>ticker</th>\n",
       "    </tr>\n",
       "  </thead>\n",
       "  <tbody>\n",
       "    <tr>\n",
       "      <th>0</th>\n",
       "      <td>2000-01-03</td>\n",
       "      <td>148.250000</td>\n",
       "      <td>148.250000</td>\n",
       "      <td>143.875000</td>\n",
       "      <td>145.437500</td>\n",
       "      <td>93.004906</td>\n",
       "      <td>8164300</td>\n",
       "      <td>SPY</td>\n",
       "    </tr>\n",
       "    <tr>\n",
       "      <th>1</th>\n",
       "      <td>2000-01-04</td>\n",
       "      <td>143.531250</td>\n",
       "      <td>144.062500</td>\n",
       "      <td>139.640625</td>\n",
       "      <td>139.750000</td>\n",
       "      <td>89.367859</td>\n",
       "      <td>8089800</td>\n",
       "      <td>SPY</td>\n",
       "    </tr>\n",
       "    <tr>\n",
       "      <th>2</th>\n",
       "      <td>2000-01-05</td>\n",
       "      <td>139.937500</td>\n",
       "      <td>141.531250</td>\n",
       "      <td>137.250000</td>\n",
       "      <td>140.000000</td>\n",
       "      <td>89.527740</td>\n",
       "      <td>12177900</td>\n",
       "      <td>SPY</td>\n",
       "    </tr>\n",
       "    <tr>\n",
       "      <th>3</th>\n",
       "      <td>2000-01-06</td>\n",
       "      <td>139.625000</td>\n",
       "      <td>141.500000</td>\n",
       "      <td>137.750000</td>\n",
       "      <td>137.750000</td>\n",
       "      <td>88.088829</td>\n",
       "      <td>6227200</td>\n",
       "      <td>SPY</td>\n",
       "    </tr>\n",
       "    <tr>\n",
       "      <th>4</th>\n",
       "      <td>2000-01-07</td>\n",
       "      <td>140.312500</td>\n",
       "      <td>145.750000</td>\n",
       "      <td>140.062500</td>\n",
       "      <td>145.750000</td>\n",
       "      <td>93.204758</td>\n",
       "      <td>8066500</td>\n",
       "      <td>SPY</td>\n",
       "    </tr>\n",
       "    <tr>\n",
       "      <th>...</th>\n",
       "      <td>...</td>\n",
       "      <td>...</td>\n",
       "      <td>...</td>\n",
       "      <td>...</td>\n",
       "      <td>...</td>\n",
       "      <td>...</td>\n",
       "      <td>...</td>\n",
       "      <td>...</td>\n",
       "    </tr>\n",
       "    <tr>\n",
       "      <th>6241</th>\n",
       "      <td>2024-10-23</td>\n",
       "      <td>581.260010</td>\n",
       "      <td>581.710022</td>\n",
       "      <td>574.419983</td>\n",
       "      <td>577.989990</td>\n",
       "      <td>577.989990</td>\n",
       "      <td>49314600</td>\n",
       "      <td>SPY</td>\n",
       "    </tr>\n",
       "    <tr>\n",
       "      <th>6242</th>\n",
       "      <td>2024-10-24</td>\n",
       "      <td>579.979980</td>\n",
       "      <td>580.059998</td>\n",
       "      <td>576.570007</td>\n",
       "      <td>579.239990</td>\n",
       "      <td>579.239990</td>\n",
       "      <td>34979900</td>\n",
       "      <td>SPY</td>\n",
       "    </tr>\n",
       "    <tr>\n",
       "      <th>6243</th>\n",
       "      <td>2024-10-25</td>\n",
       "      <td>581.510010</td>\n",
       "      <td>584.460022</td>\n",
       "      <td>578.080017</td>\n",
       "      <td>579.039978</td>\n",
       "      <td>579.039978</td>\n",
       "      <td>47268200</td>\n",
       "      <td>SPY</td>\n",
       "    </tr>\n",
       "    <tr>\n",
       "      <th>6244</th>\n",
       "      <td>2024-10-28</td>\n",
       "      <td>582.580017</td>\n",
       "      <td>582.710022</td>\n",
       "      <td>580.520020</td>\n",
       "      <td>580.830017</td>\n",
       "      <td>580.830017</td>\n",
       "      <td>30174700</td>\n",
       "      <td>SPY</td>\n",
       "    </tr>\n",
       "    <tr>\n",
       "      <th>6245</th>\n",
       "      <td>2024-10-29</td>\n",
       "      <td>579.849976</td>\n",
       "      <td>582.909973</td>\n",
       "      <td>578.429993</td>\n",
       "      <td>581.770020</td>\n",
       "      <td>581.770020</td>\n",
       "      <td>42821400</td>\n",
       "      <td>SPY</td>\n",
       "    </tr>\n",
       "  </tbody>\n",
       "</table>\n",
       "<p>6246 rows × 8 columns</p>\n",
       "</div>"
      ],
      "text/plain": [
       "           date        open        high         low       close    adjclose  \\\n",
       "0    2000-01-03  148.250000  148.250000  143.875000  145.437500   93.004906   \n",
       "1    2000-01-04  143.531250  144.062500  139.640625  139.750000   89.367859   \n",
       "2    2000-01-05  139.937500  141.531250  137.250000  140.000000   89.527740   \n",
       "3    2000-01-06  139.625000  141.500000  137.750000  137.750000   88.088829   \n",
       "4    2000-01-07  140.312500  145.750000  140.062500  145.750000   93.204758   \n",
       "...         ...         ...         ...         ...         ...         ...   \n",
       "6241 2024-10-23  581.260010  581.710022  574.419983  577.989990  577.989990   \n",
       "6242 2024-10-24  579.979980  580.059998  576.570007  579.239990  579.239990   \n",
       "6243 2024-10-25  581.510010  584.460022  578.080017  579.039978  579.039978   \n",
       "6244 2024-10-28  582.580017  582.710022  580.520020  580.830017  580.830017   \n",
       "6245 2024-10-29  579.849976  582.909973  578.429993  581.770020  581.770020   \n",
       "\n",
       "        volume ticker  \n",
       "0      8164300    SPY  \n",
       "1      8089800    SPY  \n",
       "2     12177900    SPY  \n",
       "3      6227200    SPY  \n",
       "4      8066500    SPY  \n",
       "...        ...    ...  \n",
       "6241  49314600    SPY  \n",
       "6242  34979900    SPY  \n",
       "6243  47268200    SPY  \n",
       "6244  30174700    SPY  \n",
       "6245  42821400    SPY  \n",
       "\n",
       "[6246 rows x 8 columns]"
      ]
     },
     "execution_count": 7,
     "metadata": {},
     "output_type": "execute_result"
    }
   ],
   "source": [
    "# Load ticker3 historical data from Yahoo Finance API\n",
    "from datetime import date\n",
    "today = date.today()\n",
    "curr_date = today.strftime(\"%m/%d/%Y\")\n",
    "df_03 = get_data(input_symbol_03, start_date=\"01/01/2000\", end_date=curr_date, index_as_date = False, interval=\"1d\")\n",
    "df_03_min_date = (df_03.iloc[0][\"date\"])\n",
    "df_03"
   ]
  },
  {
   "cell_type": "code",
   "execution_count": 8,
   "metadata": {
    "colab": {
     "base_uri": "https://localhost:8080/"
    },
    "id": "oEvbWJFoa6BU",
    "outputId": "d77b8d59-9902-40a5-d0ee-05b2420d5f5f"
   },
   "outputs": [
    {
     "name": "stdout",
     "output_type": "stream",
     "text": [
      "2006-07-17 00:00:00\n"
     ]
    }
   ],
   "source": [
    "# Find the first date in each dataframe and get the latest date, that way all dataframes start on the same date when concatinated\n",
    "latest_date = df_01_min_date\n",
    "if df_02_min_date > latest_date:\n",
    "  latest_date = df_02_min_date\n",
    "if df_03_min_date > latest_date:\n",
    "  latest_date = df_03_min_date\n",
    "print(latest_date)"
   ]
  },
  {
   "cell_type": "code",
   "execution_count": 9,
   "metadata": {
    "colab": {
     "base_uri": "https://localhost:8080/",
     "height": 81
    },
    "id": "GOg-g22nbpuf",
    "outputId": "86d64e00-263c-43f4-8581-b657a66669aa"
   },
   "outputs": [
    {
     "data": {
      "text/html": [
       "<div>\n",
       "<style scoped>\n",
       "    .dataframe tbody tr th:only-of-type {\n",
       "        vertical-align: middle;\n",
       "    }\n",
       "\n",
       "    .dataframe tbody tr th {\n",
       "        vertical-align: top;\n",
       "    }\n",
       "\n",
       "    .dataframe thead th {\n",
       "        text-align: right;\n",
       "    }\n",
       "</style>\n",
       "<table border=\"1\" class=\"dataframe\">\n",
       "  <thead>\n",
       "    <tr style=\"text-align: right;\">\n",
       "      <th></th>\n",
       "      <th>date</th>\n",
       "      <th>open</th>\n",
       "      <th>high</th>\n",
       "      <th>low</th>\n",
       "      <th>close</th>\n",
       "      <th>adjclose</th>\n",
       "      <th>volume</th>\n",
       "      <th>ticker</th>\n",
       "    </tr>\n",
       "  </thead>\n",
       "  <tbody>\n",
       "    <tr>\n",
       "      <th>1705</th>\n",
       "      <td>2006-07-17</td>\n",
       "      <td>18.73</td>\n",
       "      <td>18.76</td>\n",
       "      <td>17.75</td>\n",
       "      <td>18.639999</td>\n",
       "      <td>18.639999</td>\n",
       "      <td>0.0</td>\n",
       "      <td>^VIX</td>\n",
       "    </tr>\n",
       "  </tbody>\n",
       "</table>\n",
       "</div>"
      ],
      "text/plain": [
       "           date   open   high    low      close   adjclose  volume ticker\n",
       "1705 2006-07-17  18.73  18.76  17.75  18.639999  18.639999     0.0   ^VIX"
      ]
     },
     "execution_count": 9,
     "metadata": {},
     "output_type": "execute_result"
    }
   ],
   "source": [
    "df_01 = df_01[df_01.date >= latest_date]\n",
    "df_01.head(1)"
   ]
  },
  {
   "cell_type": "code",
   "execution_count": 10,
   "metadata": {
    "colab": {
     "base_uri": "https://localhost:8080/",
     "height": 81
    },
    "id": "4Kd4oOfHa6EW",
    "outputId": "5ab421ae-c655-4c62-eac6-ca65e10adabd"
   },
   "outputs": [
    {
     "data": {
      "text/html": [
       "<div>\n",
       "<style scoped>\n",
       "    .dataframe tbody tr th:only-of-type {\n",
       "        vertical-align: middle;\n",
       "    }\n",
       "\n",
       "    .dataframe tbody tr th {\n",
       "        vertical-align: top;\n",
       "    }\n",
       "\n",
       "    .dataframe thead th {\n",
       "        text-align: right;\n",
       "    }\n",
       "</style>\n",
       "<table border=\"1\" class=\"dataframe\">\n",
       "  <thead>\n",
       "    <tr style=\"text-align: right;\">\n",
       "      <th></th>\n",
       "      <th>date</th>\n",
       "      <th>open</th>\n",
       "      <th>high</th>\n",
       "      <th>low</th>\n",
       "      <th>close</th>\n",
       "      <th>adjclose</th>\n",
       "      <th>volume</th>\n",
       "      <th>ticker</th>\n",
       "    </tr>\n",
       "  </thead>\n",
       "  <tbody>\n",
       "    <tr>\n",
       "      <th>0</th>\n",
       "      <td>2006-07-17</td>\n",
       "      <td>18.049999</td>\n",
       "      <td>18.049999</td>\n",
       "      <td>18.049999</td>\n",
       "      <td>18.049999</td>\n",
       "      <td>18.049999</td>\n",
       "      <td>0</td>\n",
       "      <td>^VIX3M</td>\n",
       "    </tr>\n",
       "  </tbody>\n",
       "</table>\n",
       "</div>"
      ],
      "text/plain": [
       "        date       open       high        low      close   adjclose  volume  \\\n",
       "0 2006-07-17  18.049999  18.049999  18.049999  18.049999  18.049999       0   \n",
       "\n",
       "   ticker  \n",
       "0  ^VIX3M  "
      ]
     },
     "execution_count": 10,
     "metadata": {},
     "output_type": "execute_result"
    }
   ],
   "source": [
    "df_02 = df_02[df_02.date >= latest_date]\n",
    "df_02.head(1)"
   ]
  },
  {
   "cell_type": "code",
   "execution_count": 11,
   "metadata": {
    "colab": {
     "base_uri": "https://localhost:8080/",
     "height": 81
    },
    "id": "1wP36apNcC81",
    "outputId": "61166165-b3cb-48a2-a0da-e3b404f90758"
   },
   "outputs": [
    {
     "data": {
      "text/html": [
       "<div>\n",
       "<style scoped>\n",
       "    .dataframe tbody tr th:only-of-type {\n",
       "        vertical-align: middle;\n",
       "    }\n",
       "\n",
       "    .dataframe tbody tr th {\n",
       "        vertical-align: top;\n",
       "    }\n",
       "\n",
       "    .dataframe thead th {\n",
       "        text-align: right;\n",
       "    }\n",
       "</style>\n",
       "<table border=\"1\" class=\"dataframe\">\n",
       "  <thead>\n",
       "    <tr style=\"text-align: right;\">\n",
       "      <th></th>\n",
       "      <th>date</th>\n",
       "      <th>open</th>\n",
       "      <th>high</th>\n",
       "      <th>low</th>\n",
       "      <th>close</th>\n",
       "      <th>adjclose</th>\n",
       "      <th>volume</th>\n",
       "      <th>ticker</th>\n",
       "    </tr>\n",
       "  </thead>\n",
       "  <tbody>\n",
       "    <tr>\n",
       "      <th>1642</th>\n",
       "      <td>2006-07-17</td>\n",
       "      <td>123.519997</td>\n",
       "      <td>124.099998</td>\n",
       "      <td>123.150002</td>\n",
       "      <td>123.339996</td>\n",
       "      <td>87.160858</td>\n",
       "      <td>81159000</td>\n",
       "      <td>SPY</td>\n",
       "    </tr>\n",
       "  </tbody>\n",
       "</table>\n",
       "</div>"
      ],
      "text/plain": [
       "           date        open        high         low       close   adjclose  \\\n",
       "1642 2006-07-17  123.519997  124.099998  123.150002  123.339996  87.160858   \n",
       "\n",
       "        volume ticker  \n",
       "1642  81159000    SPY  "
      ]
     },
     "execution_count": 11,
     "metadata": {},
     "output_type": "execute_result"
    }
   ],
   "source": [
    "df_03 = df_03[df_03.date >= latest_date]\n",
    "df_03.head(1)"
   ]
  },
  {
   "cell_type": "code",
   "execution_count": 12,
   "metadata": {
    "colab": {
     "base_uri": "https://localhost:8080/",
     "height": 424
    },
    "id": "pstRdgQSWCWt",
    "outputId": "a83a51bd-8011-4d93-b707-950d40612761"
   },
   "outputs": [
    {
     "data": {
      "text/html": [
       "<div>\n",
       "<style scoped>\n",
       "    .dataframe tbody tr th:only-of-type {\n",
       "        vertical-align: middle;\n",
       "    }\n",
       "\n",
       "    .dataframe tbody tr th {\n",
       "        vertical-align: top;\n",
       "    }\n",
       "\n",
       "    .dataframe thead th {\n",
       "        text-align: right;\n",
       "    }\n",
       "</style>\n",
       "<table border=\"1\" class=\"dataframe\">\n",
       "  <thead>\n",
       "    <tr style=\"text-align: right;\">\n",
       "      <th></th>\n",
       "      <th>date</th>\n",
       "      <th>^VIX_close</th>\n",
       "      <th>^VIX3M_close</th>\n",
       "      <th>percentage</th>\n",
       "      <th>percentage_boolean</th>\n",
       "      <th>reversion_boolean</th>\n",
       "      <th>SPY_close</th>\n",
       "      <th>future_result</th>\n",
       "      <th>future_result_boolean</th>\n",
       "    </tr>\n",
       "  </thead>\n",
       "  <tbody>\n",
       "    <tr>\n",
       "      <th>0</th>\n",
       "      <td>2006-07-17</td>\n",
       "      <td>18.639999</td>\n",
       "      <td>18.049999</td>\n",
       "      <td></td>\n",
       "      <td></td>\n",
       "      <td></td>\n",
       "      <td>123.339996</td>\n",
       "      <td></td>\n",
       "      <td></td>\n",
       "    </tr>\n",
       "    <tr>\n",
       "      <th>1</th>\n",
       "      <td>2006-07-18</td>\n",
       "      <td>17.740000</td>\n",
       "      <td>17.219999</td>\n",
       "      <td></td>\n",
       "      <td></td>\n",
       "      <td></td>\n",
       "      <td>123.970001</td>\n",
       "      <td></td>\n",
       "      <td></td>\n",
       "    </tr>\n",
       "    <tr>\n",
       "      <th>2</th>\n",
       "      <td>2006-07-19</td>\n",
       "      <td>15.550000</td>\n",
       "      <td>15.600000</td>\n",
       "      <td></td>\n",
       "      <td></td>\n",
       "      <td></td>\n",
       "      <td>125.690002</td>\n",
       "      <td></td>\n",
       "      <td></td>\n",
       "    </tr>\n",
       "    <tr>\n",
       "      <th>3</th>\n",
       "      <td>2006-07-20</td>\n",
       "      <td>16.209999</td>\n",
       "      <td>16.309999</td>\n",
       "      <td></td>\n",
       "      <td></td>\n",
       "      <td></td>\n",
       "      <td>124.830002</td>\n",
       "      <td></td>\n",
       "      <td></td>\n",
       "    </tr>\n",
       "    <tr>\n",
       "      <th>4</th>\n",
       "      <td>2006-07-21</td>\n",
       "      <td>17.400000</td>\n",
       "      <td>17.040001</td>\n",
       "      <td></td>\n",
       "      <td></td>\n",
       "      <td></td>\n",
       "      <td>123.949997</td>\n",
       "      <td></td>\n",
       "      <td></td>\n",
       "    </tr>\n",
       "    <tr>\n",
       "      <th>...</th>\n",
       "      <td>...</td>\n",
       "      <td>...</td>\n",
       "      <td>...</td>\n",
       "      <td>...</td>\n",
       "      <td>...</td>\n",
       "      <td>...</td>\n",
       "      <td>...</td>\n",
       "      <td>...</td>\n",
       "      <td>...</td>\n",
       "    </tr>\n",
       "    <tr>\n",
       "      <th>4599</th>\n",
       "      <td>2024-10-23</td>\n",
       "      <td>19.240000</td>\n",
       "      <td>20.040001</td>\n",
       "      <td></td>\n",
       "      <td></td>\n",
       "      <td></td>\n",
       "      <td>577.989990</td>\n",
       "      <td></td>\n",
       "      <td></td>\n",
       "    </tr>\n",
       "    <tr>\n",
       "      <th>4600</th>\n",
       "      <td>2024-10-24</td>\n",
       "      <td>19.080000</td>\n",
       "      <td>19.850000</td>\n",
       "      <td></td>\n",
       "      <td></td>\n",
       "      <td></td>\n",
       "      <td>579.239990</td>\n",
       "      <td></td>\n",
       "      <td></td>\n",
       "    </tr>\n",
       "    <tr>\n",
       "      <th>4601</th>\n",
       "      <td>2024-10-25</td>\n",
       "      <td>20.330000</td>\n",
       "      <td>20.940001</td>\n",
       "      <td></td>\n",
       "      <td></td>\n",
       "      <td></td>\n",
       "      <td>579.039978</td>\n",
       "      <td></td>\n",
       "      <td></td>\n",
       "    </tr>\n",
       "    <tr>\n",
       "      <th>4602</th>\n",
       "      <td>2024-10-28</td>\n",
       "      <td>19.799999</td>\n",
       "      <td>20.170000</td>\n",
       "      <td></td>\n",
       "      <td></td>\n",
       "      <td></td>\n",
       "      <td>580.830017</td>\n",
       "      <td></td>\n",
       "      <td></td>\n",
       "    </tr>\n",
       "    <tr>\n",
       "      <th>4603</th>\n",
       "      <td>2024-10-29</td>\n",
       "      <td>19.340000</td>\n",
       "      <td>19.959999</td>\n",
       "      <td></td>\n",
       "      <td></td>\n",
       "      <td></td>\n",
       "      <td>581.770020</td>\n",
       "      <td></td>\n",
       "      <td></td>\n",
       "    </tr>\n",
       "  </tbody>\n",
       "</table>\n",
       "<p>4604 rows × 9 columns</p>\n",
       "</div>"
      ],
      "text/plain": [
       "           date  ^VIX_close  ^VIX3M_close percentage percentage_boolean  \\\n",
       "0    2006-07-17   18.639999     18.049999                                 \n",
       "1    2006-07-18   17.740000     17.219999                                 \n",
       "2    2006-07-19   15.550000     15.600000                                 \n",
       "3    2006-07-20   16.209999     16.309999                                 \n",
       "4    2006-07-21   17.400000     17.040001                                 \n",
       "...         ...         ...           ...        ...                ...   \n",
       "4599 2024-10-23   19.240000     20.040001                                 \n",
       "4600 2024-10-24   19.080000     19.850000                                 \n",
       "4601 2024-10-25   20.330000     20.940001                                 \n",
       "4602 2024-10-28   19.799999     20.170000                                 \n",
       "4603 2024-10-29   19.340000     19.959999                                 \n",
       "\n",
       "     reversion_boolean   SPY_close future_result future_result_boolean  \n",
       "0                       123.339996                                      \n",
       "1                       123.970001                                      \n",
       "2                       125.690002                                      \n",
       "3                       124.830002                                      \n",
       "4                       123.949997                                      \n",
       "...                ...         ...           ...                   ...  \n",
       "4599                    577.989990                                      \n",
       "4600                    579.239990                                      \n",
       "4601                    579.039978                                      \n",
       "4602                    580.830017                                      \n",
       "4603                    581.770020                                      \n",
       "\n",
       "[4604 rows x 9 columns]"
      ]
     },
     "execution_count": 12,
     "metadata": {},
     "output_type": "execute_result"
    }
   ],
   "source": [
    "# set the column names based on the ticker symbols\n",
    "col01 = (f\"{input_symbol_01}_close\")\n",
    "col02 = (f\"{input_symbol_02}_close\")\n",
    "col03 = (f\"{input_symbol_03}_close\")\n",
    "# clean and merge the 3 dataframes, and add some new cols\n",
    "df = df_01[['date', 'close']].copy()\n",
    "df = df.rename(columns={'close': col01})\n",
    "df = df.merge(df_02, on='date')\n",
    "df = df.rename(columns={'close': col02})\n",
    "df = df.drop(columns=['open', 'high', 'low', 'adjclose', 'volume', 'ticker'])\n",
    "df['percentage'] = \"\"\n",
    "df['percentage_boolean'] = \"\"\n",
    "df['reversion_boolean'] = \"\"\n",
    "df = df.merge(df_03, on='date')\n",
    "df = df.rename(columns={'close': col03})\n",
    "df = df.drop(columns=['open', 'high', 'low', 'adjclose', 'volume', 'ticker'])\n",
    "df['future_result'] = \"\"\n",
    "df['future_result_boolean'] = \"\"\n",
    "df\n",
    "\n"
   ]
  },
  {
   "cell_type": "code",
   "execution_count": 13,
   "metadata": {
    "colab": {
     "base_uri": "https://localhost:8080/"
    },
    "id": "06tZfwojWCdY",
    "outputId": "8b4e0e36-bb96-4ab5-8b4d-f970d52519c0"
   },
   "outputs": [
    {
     "name": "stderr",
     "output_type": "stream",
     "text": [
      "C:\\Users\\mlech\\AppData\\Local\\Temp\\ipykernel_17256\\1011529491.py:5: SettingWithCopyWarning: \n",
      "A value is trying to be set on a copy of a slice from a DataFrame\n",
      "\n",
      "See the caveats in the documentation: https://pandas.pydata.org/pandas-docs/stable/user_guide/indexing.html#returning-a-view-versus-a-copy\n",
      "  df.percentage[i] = (df[col02][i]/df[col01][i])\n",
      "C:\\Users\\mlech\\AppData\\Local\\Temp\\ipykernel_17256\\1011529491.py:7: SettingWithCopyWarning: \n",
      "A value is trying to be set on a copy of a slice from a DataFrame\n",
      "\n",
      "See the caveats in the documentation: https://pandas.pydata.org/pandas-docs/stable/user_guide/indexing.html#returning-a-view-versus-a-copy\n",
      "  df.reversion_boolean[i] = 1\n",
      "C:\\Users\\mlech\\AppData\\Local\\Temp\\ipykernel_17256\\1011529491.py:11: SettingWithCopyWarning: \n",
      "A value is trying to be set on a copy of a slice from a DataFrame\n",
      "\n",
      "See the caveats in the documentation: https://pandas.pydata.org/pandas-docs/stable/user_guide/indexing.html#returning-a-view-versus-a-copy\n",
      "  df.future_result[i] = ((df[col03][i+days_in_future_that_result_is_calculated]-df[col03][i])/df[col03][i])\n",
      "C:\\Users\\mlech\\AppData\\Local\\Temp\\ipykernel_17256\\1011529491.py:9: SettingWithCopyWarning: \n",
      "A value is trying to be set on a copy of a slice from a DataFrame\n",
      "\n",
      "See the caveats in the documentation: https://pandas.pydata.org/pandas-docs/stable/user_guide/indexing.html#returning-a-view-versus-a-copy\n",
      "  df.reversion_boolean[i] = 0\n"
     ]
    }
   ],
   "source": [
    "# loop through the df to populate the new columns\n",
    "for i in range(len(df)):\n",
    "\n",
    "    if (i < (len(df))):\n",
    "      df.percentage[i] = (df[col02][i]/df[col01][i])\n",
    "      if ( (df[col01][i] > reversion_low_value) & (df[col01][i] < reversion_high_value) ):\n",
    "        df.reversion_boolean[i] = 1\n",
    "      else:\n",
    "        df.reversion_boolean[i] = 0\n",
    "    if (i < (len(df)-days_in_future_that_result_is_calculated)):\n",
    "      df.future_result[i] = ((df[col03][i+days_in_future_that_result_is_calculated]-df[col03][i])/df[col03][i])\n",
    "\n",
    "df = df[df['future_result'] != \"\"]"
   ]
  },
  {
   "cell_type": "code",
   "execution_count": 14,
   "metadata": {
    "colab": {
     "base_uri": "https://localhost:8080/"
    },
    "id": "0kUtL_2_9pEk",
    "outputId": "0b6cc61a-7404-49a1-a240-826c50cce4f4"
   },
   "outputs": [
    {
     "name": "stderr",
     "output_type": "stream",
     "text": [
      "C:\\Users\\mlech\\AppData\\Local\\Temp\\ipykernel_17256\\2048380017.py:1: SettingWithCopyWarning: \n",
      "A value is trying to be set on a copy of a slice from a DataFrame.\n",
      "Try using .loc[row_indexer,col_indexer] = value instead\n",
      "\n",
      "See the caveats in the documentation: https://pandas.pydata.org/pandas-docs/stable/user_guide/indexing.html#returning-a-view-versus-a-copy\n",
      "  df[\"percentage\"] = pd.to_numeric(df[\"percentage\"])\n",
      "C:\\Users\\mlech\\AppData\\Local\\Temp\\ipykernel_17256\\2048380017.py:2: SettingWithCopyWarning: \n",
      "A value is trying to be set on a copy of a slice from a DataFrame.\n",
      "Try using .loc[row_indexer,col_indexer] = value instead\n",
      "\n",
      "See the caveats in the documentation: https://pandas.pydata.org/pandas-docs/stable/user_guide/indexing.html#returning-a-view-versus-a-copy\n",
      "  df[\"reversion_boolean\"] = pd.to_numeric(df[\"reversion_boolean\"])\n",
      "C:\\Users\\mlech\\AppData\\Local\\Temp\\ipykernel_17256\\2048380017.py:3: SettingWithCopyWarning: \n",
      "A value is trying to be set on a copy of a slice from a DataFrame.\n",
      "Try using .loc[row_indexer,col_indexer] = value instead\n",
      "\n",
      "See the caveats in the documentation: https://pandas.pydata.org/pandas-docs/stable/user_guide/indexing.html#returning-a-view-versus-a-copy\n",
      "  df[\"future_result\"] = pd.to_numeric(df[\"future_result\"])\n",
      "C:\\Users\\mlech\\AppData\\Local\\Temp\\ipykernel_17256\\2048380017.py:9: SettingWithCopyWarning: \n",
      "A value is trying to be set on a copy of a slice from a DataFrame\n",
      "\n",
      "See the caveats in the documentation: https://pandas.pydata.org/pandas-docs/stable/user_guide/indexing.html#returning-a-view-versus-a-copy\n",
      "  df.percentage_boolean[i] = 0\n",
      "C:\\Users\\mlech\\AppData\\Local\\Temp\\ipykernel_17256\\2048380017.py:11: SettingWithCopyWarning: \n",
      "A value is trying to be set on a copy of a slice from a DataFrame\n",
      "\n",
      "See the caveats in the documentation: https://pandas.pydata.org/pandas-docs/stable/user_guide/indexing.html#returning-a-view-versus-a-copy\n",
      "  df.future_result_boolean[i] = 1\n",
      "C:\\Users\\mlech\\AppData\\Local\\Temp\\ipykernel_17256\\2048380017.py:7: SettingWithCopyWarning: \n",
      "A value is trying to be set on a copy of a slice from a DataFrame\n",
      "\n",
      "See the caveats in the documentation: https://pandas.pydata.org/pandas-docs/stable/user_guide/indexing.html#returning-a-view-versus-a-copy\n",
      "  df.percentage_boolean[i] = 1\n",
      "C:\\Users\\mlech\\AppData\\Local\\Temp\\ipykernel_17256\\2048380017.py:13: SettingWithCopyWarning: \n",
      "A value is trying to be set on a copy of a slice from a DataFrame\n",
      "\n",
      "See the caveats in the documentation: https://pandas.pydata.org/pandas-docs/stable/user_guide/indexing.html#returning-a-view-versus-a-copy\n",
      "  df.future_result_boolean[i] = 0\n",
      "C:\\Users\\mlech\\AppData\\Local\\Temp\\ipykernel_17256\\2048380017.py:15: SettingWithCopyWarning: \n",
      "A value is trying to be set on a copy of a slice from a DataFrame.\n",
      "Try using .loc[row_indexer,col_indexer] = value instead\n",
      "\n",
      "See the caveats in the documentation: https://pandas.pydata.org/pandas-docs/stable/user_guide/indexing.html#returning-a-view-versus-a-copy\n",
      "  df[\"future_result_boolean\"] = pd.to_numeric(df[\"future_result_boolean\"])\n",
      "C:\\Users\\mlech\\AppData\\Local\\Temp\\ipykernel_17256\\2048380017.py:16: SettingWithCopyWarning: \n",
      "A value is trying to be set on a copy of a slice from a DataFrame.\n",
      "Try using .loc[row_indexer,col_indexer] = value instead\n",
      "\n",
      "See the caveats in the documentation: https://pandas.pydata.org/pandas-docs/stable/user_guide/indexing.html#returning-a-view-versus-a-copy\n",
      "  df[\"percentage_boolean\"] = pd.to_numeric(df[\"percentage_boolean\"])\n"
     ]
    },
    {
     "data": {
      "text/plain": [
       "date                     datetime64[ns]\n",
       "^VIX_close                      float64\n",
       "^VIX3M_close                    float64\n",
       "percentage                      float64\n",
       "percentage_boolean                int64\n",
       "reversion_boolean                 int64\n",
       "SPY_close                       float64\n",
       "future_result                   float64\n",
       "future_result_boolean             int64\n",
       "dtype: object"
      ]
     },
     "execution_count": 14,
     "metadata": {},
     "output_type": "execute_result"
    }
   ],
   "source": [
    "df[\"percentage\"] = pd.to_numeric(df[\"percentage\"])\n",
    "df[\"reversion_boolean\"] = pd.to_numeric(df[\"reversion_boolean\"])\n",
    "df[\"future_result\"] = pd.to_numeric(df[\"future_result\"])\n",
    "\n",
    "for i in range(len(df)):\n",
    "    if (df['percentage'][i] > 1):\n",
    "      df.percentage_boolean[i] = 1\n",
    "    else:\n",
    "      df.percentage_boolean[i] = 0\n",
    "    if (df['future_result'][i] > 0):\n",
    "      df.future_result_boolean[i] = 1\n",
    "    else:\n",
    "      df.future_result_boolean[i] = 0\n",
    "\n",
    "df[\"future_result_boolean\"] = pd.to_numeric(df[\"future_result_boolean\"])\n",
    "df[\"percentage_boolean\"] = pd.to_numeric(df[\"percentage_boolean\"])\n",
    "df.dtypes"
   ]
  },
  {
   "cell_type": "code",
   "execution_count": 15,
   "metadata": {
    "colab": {
     "base_uri": "https://localhost:8080/",
     "height": 424
    },
    "id": "nnYcivgcoPHM",
    "outputId": "f8165e3e-6a94-4b6b-f5fc-74b65a0cee0a"
   },
   "outputs": [
    {
     "data": {
      "text/html": [
       "<div>\n",
       "<style scoped>\n",
       "    .dataframe tbody tr th:only-of-type {\n",
       "        vertical-align: middle;\n",
       "    }\n",
       "\n",
       "    .dataframe tbody tr th {\n",
       "        vertical-align: top;\n",
       "    }\n",
       "\n",
       "    .dataframe thead th {\n",
       "        text-align: right;\n",
       "    }\n",
       "</style>\n",
       "<table border=\"1\" class=\"dataframe\">\n",
       "  <thead>\n",
       "    <tr style=\"text-align: right;\">\n",
       "      <th></th>\n",
       "      <th>date</th>\n",
       "      <th>^VIX_close</th>\n",
       "      <th>^VIX3M_close</th>\n",
       "      <th>percentage</th>\n",
       "      <th>percentage_boolean</th>\n",
       "      <th>reversion_boolean</th>\n",
       "      <th>SPY_close</th>\n",
       "      <th>future_result</th>\n",
       "      <th>future_result_boolean</th>\n",
       "    </tr>\n",
       "  </thead>\n",
       "  <tbody>\n",
       "    <tr>\n",
       "      <th>0</th>\n",
       "      <td>2006-07-17</td>\n",
       "      <td>18.639999</td>\n",
       "      <td>18.049999</td>\n",
       "      <td>0.968348</td>\n",
       "      <td>0</td>\n",
       "      <td>1</td>\n",
       "      <td>123.339996</td>\n",
       "      <td>0.252392</td>\n",
       "      <td>1</td>\n",
       "    </tr>\n",
       "    <tr>\n",
       "      <th>1</th>\n",
       "      <td>2006-07-18</td>\n",
       "      <td>17.740000</td>\n",
       "      <td>17.219999</td>\n",
       "      <td>0.970688</td>\n",
       "      <td>0</td>\n",
       "      <td>1</td>\n",
       "      <td>123.970001</td>\n",
       "      <td>0.250867</td>\n",
       "      <td>1</td>\n",
       "    </tr>\n",
       "    <tr>\n",
       "      <th>2</th>\n",
       "      <td>2006-07-19</td>\n",
       "      <td>15.550000</td>\n",
       "      <td>15.600000</td>\n",
       "      <td>1.003215</td>\n",
       "      <td>1</td>\n",
       "      <td>1</td>\n",
       "      <td>125.690002</td>\n",
       "      <td>0.221259</td>\n",
       "      <td>1</td>\n",
       "    </tr>\n",
       "    <tr>\n",
       "      <th>3</th>\n",
       "      <td>2006-07-20</td>\n",
       "      <td>16.209999</td>\n",
       "      <td>16.309999</td>\n",
       "      <td>1.006169</td>\n",
       "      <td>1</td>\n",
       "      <td>1</td>\n",
       "      <td>124.830002</td>\n",
       "      <td>0.233437</td>\n",
       "      <td>1</td>\n",
       "    </tr>\n",
       "    <tr>\n",
       "      <th>4</th>\n",
       "      <td>2006-07-21</td>\n",
       "      <td>17.400000</td>\n",
       "      <td>17.040001</td>\n",
       "      <td>0.979310</td>\n",
       "      <td>0</td>\n",
       "      <td>1</td>\n",
       "      <td>123.949997</td>\n",
       "      <td>0.220654</td>\n",
       "      <td>1</td>\n",
       "    </tr>\n",
       "    <tr>\n",
       "      <th>...</th>\n",
       "      <td>...</td>\n",
       "      <td>...</td>\n",
       "      <td>...</td>\n",
       "      <td>...</td>\n",
       "      <td>...</td>\n",
       "      <td>...</td>\n",
       "      <td>...</td>\n",
       "      <td>...</td>\n",
       "      <td>...</td>\n",
       "    </tr>\n",
       "    <tr>\n",
       "      <th>4347</th>\n",
       "      <td>2023-10-23</td>\n",
       "      <td>20.370001</td>\n",
       "      <td>21.330000</td>\n",
       "      <td>1.047128</td>\n",
       "      <td>1</td>\n",
       "      <td>0</td>\n",
       "      <td>420.459991</td>\n",
       "      <td>0.374661</td>\n",
       "      <td>1</td>\n",
       "    </tr>\n",
       "    <tr>\n",
       "      <th>4348</th>\n",
       "      <td>2023-10-24</td>\n",
       "      <td>18.969999</td>\n",
       "      <td>20.209999</td>\n",
       "      <td>1.065366</td>\n",
       "      <td>1</td>\n",
       "      <td>1</td>\n",
       "      <td>423.630005</td>\n",
       "      <td>0.367325</td>\n",
       "      <td>1</td>\n",
       "    </tr>\n",
       "    <tr>\n",
       "      <th>4349</th>\n",
       "      <td>2023-10-25</td>\n",
       "      <td>20.190001</td>\n",
       "      <td>21.330000</td>\n",
       "      <td>1.056464</td>\n",
       "      <td>1</td>\n",
       "      <td>0</td>\n",
       "      <td>417.549988</td>\n",
       "      <td>0.386756</td>\n",
       "      <td>1</td>\n",
       "    </tr>\n",
       "    <tr>\n",
       "      <th>4350</th>\n",
       "      <td>2023-10-26</td>\n",
       "      <td>20.680000</td>\n",
       "      <td>21.570000</td>\n",
       "      <td>1.043037</td>\n",
       "      <td>1</td>\n",
       "      <td>0</td>\n",
       "      <td>412.549988</td>\n",
       "      <td>0.407902</td>\n",
       "      <td>1</td>\n",
       "    </tr>\n",
       "    <tr>\n",
       "      <th>4351</th>\n",
       "      <td>2023-10-27</td>\n",
       "      <td>21.270000</td>\n",
       "      <td>22.270000</td>\n",
       "      <td>1.047015</td>\n",
       "      <td>1</td>\n",
       "      <td>0</td>\n",
       "      <td>410.679993</td>\n",
       "      <td>0.416602</td>\n",
       "      <td>1</td>\n",
       "    </tr>\n",
       "  </tbody>\n",
       "</table>\n",
       "<p>4352 rows × 9 columns</p>\n",
       "</div>"
      ],
      "text/plain": [
       "           date  ^VIX_close  ^VIX3M_close  percentage  percentage_boolean  \\\n",
       "0    2006-07-17   18.639999     18.049999    0.968348                   0   \n",
       "1    2006-07-18   17.740000     17.219999    0.970688                   0   \n",
       "2    2006-07-19   15.550000     15.600000    1.003215                   1   \n",
       "3    2006-07-20   16.209999     16.309999    1.006169                   1   \n",
       "4    2006-07-21   17.400000     17.040001    0.979310                   0   \n",
       "...         ...         ...           ...         ...                 ...   \n",
       "4347 2023-10-23   20.370001     21.330000    1.047128                   1   \n",
       "4348 2023-10-24   18.969999     20.209999    1.065366                   1   \n",
       "4349 2023-10-25   20.190001     21.330000    1.056464                   1   \n",
       "4350 2023-10-26   20.680000     21.570000    1.043037                   1   \n",
       "4351 2023-10-27   21.270000     22.270000    1.047015                   1   \n",
       "\n",
       "      reversion_boolean   SPY_close  future_result  future_result_boolean  \n",
       "0                     1  123.339996       0.252392                      1  \n",
       "1                     1  123.970001       0.250867                      1  \n",
       "2                     1  125.690002       0.221259                      1  \n",
       "3                     1  124.830002       0.233437                      1  \n",
       "4                     1  123.949997       0.220654                      1  \n",
       "...                 ...         ...            ...                    ...  \n",
       "4347                  0  420.459991       0.374661                      1  \n",
       "4348                  1  423.630005       0.367325                      1  \n",
       "4349                  0  417.549988       0.386756                      1  \n",
       "4350                  0  412.549988       0.407902                      1  \n",
       "4351                  0  410.679993       0.416602                      1  \n",
       "\n",
       "[4352 rows x 9 columns]"
      ]
     },
     "execution_count": 15,
     "metadata": {},
     "output_type": "execute_result"
    }
   ],
   "source": [
    "df"
   ]
  },
  {
   "cell_type": "code",
   "execution_count": 16,
   "metadata": {
    "colab": {
     "base_uri": "https://localhost:8080/",
     "height": 523
    },
    "id": "hgs9NYYQ1Sdw",
    "outputId": "c7be7547-a3ed-48a8-b2a8-41f32e12e216"
   },
   "outputs": [
    {
     "data": {
      "text/plain": [
       "<seaborn.axisgrid.FacetGrid at 0x12c4d67b280>"
      ]
     },
     "execution_count": 16,
     "metadata": {},
     "output_type": "execute_result"
    },
    {
     "data": {
      "image/png": "[encoded data removed]",
      "text/plain": [
       "<Figure size 500x500 with 1 Axes>"
      ]
     },
     "metadata": {},
     "output_type": "display_data"
    }
   ],
   "source": [
    "x_axis = '^VIX_close'\n",
    "y_axis = 'future_result'\n",
    "c_axis = '^VIX3M_close'\n",
    "import seaborn as sns\n",
    "# Draw a seaborn scatter plot\n",
    "sns.lmplot(x=x_axis,y=y_axis,data=df,fit_reg=True) \n"
   ]
  },
  {
   "cell_type": "code",
   "execution_count": 17,
   "metadata": {
    "colab": {
     "base_uri": "https://localhost:8080/",
     "height": 470
    },
    "id": "wHvXZaeBFo4t",
    "outputId": "2693d217-6a90-4ea3-cb0e-d5231dbafbbc"
   },
   "outputs": [
    {
     "data": {
      "text/plain": [
       "<Axes: xlabel='^VIX_close', ylabel='future_result'>"
      ]
     },
     "execution_count": 17,
     "metadata": {},
     "output_type": "execute_result"
    },
    {
     "data": {
      "image/png": "[encoded data removed]",
      "text/plain": [
       "<Figure size 640x480 with 2 Axes>"
      ]
     },
     "metadata": {},
     "output_type": "display_data"
    }
   ],
   "source": [
    "# Draw scatter plot with both input securities\n",
    "df.plot.scatter(x = x_axis, y = y_axis, c=c_axis, colormap='viridis', s = 10)"
   ]
  },
  {
   "cell_type": "code",
   "execution_count": 18,
   "metadata": {
    "id": "RHBWVrk2OBNw"
   },
   "outputs": [],
   "source": [
    "# Remove target 'y' from features data\n",
    "y = df[output_col_for_y].values"
   ]
  },
  {
   "cell_type": "code",
   "execution_count": 19,
   "metadata": {
    "id": "lNTaQNR25hX_"
   },
   "outputs": [],
   "source": [
    "# Pick columns to use for input 'X'\n",
    "X = df[input_column_list_for_X].values"
   ]
  },
  {
   "cell_type": "code",
   "execution_count": 20,
   "metadata": {
    "id": "ZsfPhXjr6Kdv"
   },
   "outputs": [],
   "source": [
    "# Split the preprocessed data into a training and testing dataset\n",
    "X_train, X_test, y_train, y_test = train_test_split(X, y, random_state=1)"
   ]
  },
  {
   "cell_type": "code",
   "execution_count": 21,
   "metadata": {
    "id": "XoElFVD35vZ5"
   },
   "outputs": [],
   "source": [
    "# Fit the StandardScaler\n",
    "X_scaler = scaler.fit(X_train)"
   ]
  },
  {
   "cell_type": "code",
   "execution_count": 22,
   "metadata": {
    "colab": {
     "base_uri": "https://localhost:8080/"
    },
    "id": "-SCorU7d7MzW",
    "outputId": "5c6757c5-ef2f-4fd3-b5e8-1f10c1fec983"
   },
   "outputs": [
    {
     "name": "stdout",
     "output_type": "stream",
     "text": [
      "Scale Data = Y\n"
     ]
    }
   ],
   "source": [
    "# Scale the data if the indicator is set to 'Y'\n",
    "if scale_data == \"N\":\n",
    "  import numpy as np\n",
    "  X_train = np.asarray(X_train).astype(np.float64)\n",
    "  X_train_scaled = X_train\n",
    "  X_test = np.asarray(X_test).astype(np.float64)\n",
    "  X_test_scaled = X_test\n",
    "else:\n",
    "  X_train_scaled = X_scaler.transform(X_train)\n",
    "  X_test_scaled = X_scaler.transform(X_test)\n",
    "\n",
    "print(f\"Scale Data = {scale_data}\")"
   ]
  },
  {
   "cell_type": "markdown",
   "metadata": {
    "id": "60JmJilJ6PAT"
   },
   "source": [
    "### Created an auto optimization function to determine:\n",
    "* Activation\n",
    "* Hidden layers\n",
    "* Nodes\n",
    "* Epochs"
   ]
  },
  {
   "cell_type": "code",
   "execution_count": 23,
   "metadata": {
    "colab": {
     "base_uri": "https://localhost:8080/"
    },
    "id": "ebAbh4js6Pfk",
    "outputId": "3bc603dd-04a4-4245-e6fe-a4c649819ac1"
   },
   "outputs": [
    {
     "name": "stdout",
     "output_type": "stream",
     "text": [
      "Requirement already satisfied: keras-tuner in c:\\users\\mlech\\anaconda3\\lib\\site-packages (1.3.5)\n",
      "Requirement already satisfied: packaging in c:\\users\\mlech\\anaconda3\\lib\\site-packages (from keras-tuner) (22.0)\n",
      "Requirement already satisfied: requests in c:\\users\\mlech\\anaconda3\\lib\\site-packages (from keras-tuner) (2.32.3)\n",
      "Requirement already satisfied: kt-legacy in c:\\users\\mlech\\anaconda3\\lib\\site-packages (from keras-tuner) (1.0.5)\n",
      "Requirement already satisfied: charset-normalizer<4,>=2 in c:\\users\\mlech\\anaconda3\\lib\\site-packages (from requests->keras-tuner) (2.0.4)\n",
      "Requirement already satisfied: idna<4,>=2.5 in c:\\users\\mlech\\anaconda3\\lib\\site-packages (from requests->keras-tuner) (3.4)\n",
      "Requirement already satisfied: urllib3<3,>=1.21.1 in c:\\users\\mlech\\anaconda3\\lib\\site-packages (from requests->keras-tuner) (1.26.14)\n",
      "Requirement already satisfied: certifi>=2017.4.17 in c:\\users\\mlech\\anaconda3\\lib\\site-packages (from requests->keras-tuner) (2022.12.7)\n",
      "Note: you may need to restart the kernel to use updated packages.\n"
     ]
    },
    {
     "name": "stderr",
     "output_type": "stream",
     "text": [
      "WARNING: Ignoring invalid distribution -atplotlib (c:\\users\\mlech\\anaconda3\\lib\\site-packages)\n",
      "WARNING: Ignoring invalid distribution -atplotlib (c:\\users\\mlech\\anaconda3\\lib\\site-packages)\n",
      "WARNING: Ignoring invalid distribution -atplotlib (c:\\users\\mlech\\anaconda3\\lib\\site-packages)\n"
     ]
    }
   ],
   "source": [
    "pip install keras-tuner"
   ]
  },
  {
   "cell_type": "code",
   "execution_count": 24,
   "metadata": {
    "colab": {
     "base_uri": "https://localhost:8080/"
    },
    "id": "IngtFQS05g_D",
    "outputId": "741e9c91-b464-4209-84b2-23f3d6cd7b88"
   },
   "outputs": [
    {
     "name": "stdout",
     "output_type": "stream",
     "text": [
      "Running relu only\n"
     ]
    }
   ],
   "source": [
    "number_input_features = len(X_train[0])\n",
    "\n",
    "# Create a method that creates a new Sequential model with hyperparameter options\n",
    "def create_model(hp):\n",
    "    nn_model = tf.keras.models.Sequential()\n",
    "\n",
    "    # Allow kerastuner to decide which activation function to use in hidden layers\n",
    "    if relu_only:\n",
    "      print(\"Running relu only\")\n",
    "      activation = hp.Choice('activation',['relu'])\n",
    "    else:\n",
    "      activation = hp.Choice('activation',['relu','tanh','sigmoid'])\n",
    "    \n",
    "    # Allow kerastuner to decide number of neurons in first layer\n",
    "    nn_model.add(tf.keras.layers.Dense(units=hp.Int('first_units',\n",
    "        min_value=number_input_features,\n",
    "        max_value=number_input_features,\n",
    "        step=1), activation=activation, \n",
    "        input_dim=number_input_features))\n",
    "\n",
    "    # Allow kerastuner to decide number of hidden layers and neurons in hidden layers\n",
    "    # 10 potential hidden layers max\n",
    "    for i in range(hp.Int('num_layers', 1, optimization_max_hidden_layers)):\n",
    "        nn_model.add(tf.keras.layers.Dense(units=hp.Int('units_' + str(i),\n",
    "            # potential nodes\n",
    "            min_value=5,\n",
    "            max_value=optimization_max_nodes,\n",
    "            step=5),\n",
    "            activation=activation))\n",
    "    \n",
    "    nn_model.add(tf.keras.layers.Dense(units=1, activation=\"sigmoid\"))\n",
    "\n",
    "    # Compile the model\n",
    "    nn_model.compile(loss=\"binary_crossentropy\", optimizer='adam', metrics=[\"accuracy\"])\n",
    "    \n",
    "    return nn_model\n",
    "\n",
    "# Import the kerastuner library\n",
    "import keras_tuner as kt\n",
    "\n",
    "tuner = kt.Hyperband(\n",
    "    create_model,\n",
    "    objective=\"val_accuracy\",\n",
    "    # max epochs\n",
    "    max_epochs=optimization_max_epochs,\n",
    "    hyperband_iterations=2)"
   ]
  },
  {
   "cell_type": "code",
   "execution_count": 25,
   "metadata": {
    "colab": {
     "base_uri": "https://localhost:8080/"
    },
    "id": "81mtz8J99NdU",
    "outputId": "4f69572d-2935-4b20-b326-e338385ee76b"
   },
   "outputs": [
    {
     "name": "stdout",
     "output_type": "stream",
     "text": [
      "float64\n",
      "float64\n",
      "int64\n",
      "int64\n"
     ]
    }
   ],
   "source": [
    "print(X_train_scaled.dtype)\n",
    "print(X_test_scaled.dtype)\n",
    "print(y_train.dtype)\n",
    "print(y_test.dtype)"
   ]
  },
  {
   "cell_type": "code",
   "execution_count": 26,
   "metadata": {
    "colab": {
     "base_uri": "https://localhost:8080/"
    },
    "id": "ZK4PIfdR5hdB",
    "outputId": "b4a14767-b066-4ae4-be9e-62804291d61d"
   },
   "outputs": [
    {
     "name": "stdout",
     "output_type": "stream",
     "text": [
      "Trial 60 Complete [00h 00m 05s]\n",
      "val_accuracy: 0.7886029481887817\n",
      "\n",
      "Best val_accuracy So Far: 0.7895220518112183\n",
      "Total elapsed time: 00h 02m 44s\n",
      "INFO:tensorflow:Oracle triggered exit\n"
     ]
    }
   ],
   "source": [
    "# Run the kerastuner search for best hyperparameters\n",
    "\n",
    "tuner.search(X_train_scaled,y_train,validation_data=(X_test_scaled,y_test))"
   ]
  },
  {
   "cell_type": "code",
   "execution_count": 27,
   "metadata": {
    "colab": {
     "base_uri": "https://localhost:8080/"
    },
    "id": "bMJ-pz1n5hgP",
    "outputId": "797fc14f-5e8c-4db1-ed31-1db6c206f7f3"
   },
   "outputs": [
    {
     "data": {
      "text/plain": [
       "{'activation': 'relu',\n",
       " 'first_units': 2,\n",
       " 'num_layers': 3,\n",
       " 'units_0': 165,\n",
       " 'units_1': 140,\n",
       " 'units_2': 180,\n",
       " 'units_3': 190,\n",
       " 'units_4': 110,\n",
       " 'units_5': 20,\n",
       " 'units_6': 155,\n",
       " 'units_7': 160,\n",
       " 'units_8': 105,\n",
       " 'units_9': 195,\n",
       " 'tuner/epochs': 20,\n",
       " 'tuner/initial_epoch': 0,\n",
       " 'tuner/bracket': 0,\n",
       " 'tuner/round': 0}"
      ]
     },
     "execution_count": 27,
     "metadata": {},
     "output_type": "execute_result"
    }
   ],
   "source": [
    "# Get best model hyperparameters from the tests that were just completed\n",
    "best_hyper = tuner.get_best_hyperparameters(1)[0]\n",
    "best_hyper.values"
   ]
  },
  {
   "cell_type": "code",
   "execution_count": 28,
   "metadata": {
    "colab": {
     "base_uri": "https://localhost:8080/"
    },
    "id": "27VVcfdM5hkx",
    "outputId": "42c9b5c3-8c76-4686-84d7-dee5903f9f50"
   },
   "outputs": [
    {
     "name": "stdout",
     "output_type": "stream",
     "text": [
      "Running relu only\n",
      "34/34 - 0s - loss: 0.4915 - accuracy: 0.7895 - 155ms/epoch - 5ms/step\n",
      "Loss: 0.491472065448761, Accuracy: 0.7895220518112183\n",
      "Scale Data = Y\n"
     ]
    }
   ],
   "source": [
    "# Evaluate best model against full test data\n",
    "best_model = tuner.get_best_models(1)[0]\n",
    "\n",
    "model_loss, model_accuracy = best_model.evaluate(X_test_scaled,y_test,verbose=2)\n",
    "\n",
    "print(f\"Loss: {model_loss}, Accuracy: {model_accuracy}\")\n",
    "print(f\"Scale Data = {scale_data}\")"
   ]
  },
  {
   "cell_type": "code",
   "execution_count": 29,
   "metadata": {
    "id": "G3akOMLn5hn7"
   },
   "outputs": [],
   "source": [
    "# Set variables based on the best result from the auto optimization\n",
    "\n",
    "activation_type = best_hyper.values['activation']\n",
    "num_layers = best_hyper.values['num_layers']\n",
    "num_epochs = best_hyper.values['tuner/epochs']\n"
   ]
  },
  {
   "cell_type": "markdown",
   "metadata": {
    "id": "9lOkIP0P5ylB"
   },
   "source": [
    "### Compile, Train and Evaluate the Model"
   ]
  },
  {
   "cell_type": "code",
   "execution_count": 30,
   "metadata": {
    "id": "dcPvdJsn7M2Q"
   },
   "outputs": [],
   "source": [
    "number_input_features = len(X_train[0])\n",
    "\n",
    "nn = tf.keras.models.Sequential()"
   ]
  },
  {
   "cell_type": "code",
   "execution_count": 31,
   "metadata": {
    "colab": {
     "base_uri": "https://localhost:8080/"
    },
    "id": "eJx_QdDs7M5k",
    "outputId": "3c7b04b4-24ff-49a5-f2bf-617750e9b285"
   },
   "outputs": [
    {
     "name": "stdout",
     "output_type": "stream",
     "text": [
      "Layer: 1\n",
      "Nodes: 165\n",
      "Layer: 2\n",
      "Nodes: 140\n",
      "Layer: 3\n",
      "Nodes: 180\n"
     ]
    }
   ],
   "source": [
    "# First hidden layer\n",
    "hidden_nodes_layer1 = best_hyper.values['units_0']\n",
    "nn.add(\n",
    "    tf.keras.layers.Dense(units=hidden_nodes_layer1, input_dim=number_input_features, activation=activation_type)\n",
    ")\n",
    "print(f\"Layer: 1\")\n",
    "print(f\"Nodes: {hidden_nodes_layer1}\")\n",
    "\n",
    "if num_layers >= 2:\n",
    "  # second hidden layer\n",
    "  hidden_nodes_layer2 = best_hyper.values['units_1']\n",
    "  nn.add(tf.keras.layers.Dense(units=hidden_nodes_layer2, activation=activation_type))\n",
    "  print(f\"Layer: 2\")\n",
    "  print(f\"Nodes: {hidden_nodes_layer2}\")\n",
    "\n",
    "if num_layers >= 3:\n",
    "  # hidden layer\n",
    "  hidden_nodes_layer3 = best_hyper.values['units_2']\n",
    "  nn.add(tf.keras.layers.Dense(units=hidden_nodes_layer3, activation=activation_type))\n",
    "  print(f\"Layer: 3\")\n",
    "  print(f\"Nodes: {hidden_nodes_layer3}\")\n",
    "\n",
    "if num_layers >= 4:\n",
    "  # hidden layer\n",
    "  hidden_nodes_layer4 = best_hyper.values['units_3']\n",
    "  nn.add(tf.keras.layers.Dense(units=hidden_nodes_layer4, activation=activation_type))\n",
    "  print(f\"Layer: 4\")\n",
    "  print(f\"Nodes: {hidden_nodes_layer4}\")\n",
    "\n",
    "if num_layers >= 5:\n",
    "  # hidden layer\n",
    "  hidden_nodes_layer5 = best_hyper.values['units_4']\n",
    "  nn.add(tf.keras.layers.Dense(units=hidden_nodes_layer5, activation=activation_type))\n",
    "  print(f\"Layer: 5\")\n",
    "  print(f\"Nodes: {hidden_nodes_layer5}\")\n",
    "\n",
    "if num_layers >= 6:\n",
    "  # hidden layer\n",
    "  hidden_nodes_layer6 = best_hyper.values['units_5']\n",
    "  nn.add(tf.keras.layers.Dense(units=hidden_nodes_layer6, activation=activation_type))\n",
    "  print(f\"Layer: 6\")\n",
    "  print(f\"Nodes: {hidden_nodes_layer6}\")\n",
    "\n",
    "if num_layers >= 7:\n",
    "  # hidden layer\n",
    "  hidden_nodes_layer7 = best_hyper.values['units_6']\n",
    "  nn.add(tf.keras.layers.Dense(units=hidden_nodes_layer7, activation=activation_type))\n",
    "  print(f\"Layer: 7\")\n",
    "  print(f\"Nodes: {hidden_nodes_layer7}\")\n",
    "\n",
    "if num_layers >= 8:\n",
    "  # hidden layer\n",
    "  hidden_nodes_layer8 = best_hyper.values['units_7']\n",
    "  nn.add(tf.keras.layers.Dense(units=hidden_nodes_layer8, activation=activation_type))\n",
    "  print(f\"Layer: 8\")\n",
    "  print(f\"Nodes: {hidden_nodes_layer8}\")\n",
    "\n",
    "if num_layers >= 9:\n",
    "  # hidden layer\n",
    "  hidden_nodes_layer9 = best_hyper.values['units_8']\n",
    "  nn.add(tf.keras.layers.Dense(units=hidden_nodes_layer9, activation=activation_type))\n",
    "  print(f\"Layer: 9\")\n",
    "  print(f\"Nodes: {hidden_nodes_layer9}\")\n",
    "\n",
    "if num_layers >= 10:\n",
    "  # hidden layer\n",
    "  hidden_nodes_layer10 = best_hyper.values['units_9']\n",
    "  nn.add(tf.keras.layers.Dense(units=hidden_nodes_layer10, activation=activation_type))\n",
    "  print(f\"Layer: 10\")\n",
    "  print(f\"Nodes: {hidden_nodes_layer10}\")\n"
   ]
  },
  {
   "cell_type": "code",
   "execution_count": 32,
   "metadata": {
    "colab": {
     "base_uri": "https://localhost:8080/"
    },
    "id": "c9fx1Ois7M81",
    "outputId": "38eb8a12-547e-44b6-ec19-ce414db280be"
   },
   "outputs": [
    {
     "name": "stdout",
     "output_type": "stream",
     "text": [
      "Model: \"sequential_1\"\n",
      "_________________________________________________________________\n",
      " Layer (type)                Output Shape              Param #   \n",
      "=================================================================\n",
      " dense_5 (Dense)             (None, 165)               495       \n",
      "                                                                 \n",
      " dense_6 (Dense)             (None, 140)               23240     \n",
      "                                                                 \n",
      " dense_7 (Dense)             (None, 180)               25380     \n",
      "                                                                 \n",
      " dense_8 (Dense)             (None, 1)                 181       \n",
      "                                                                 \n",
      "=================================================================\n",
      "Total params: 49296 (192.56 KB)\n",
      "Trainable params: 49296 (192.56 KB)\n",
      "Non-trainable params: 0 (0.00 Byte)\n",
      "_________________________________________________________________\n"
     ]
    }
   ],
   "source": [
    "# Output layer\n",
    "nn.add(tf.keras.layers.Dense(units=1, activation=\"sigmoid\"))\n",
    "\n",
    "# Check the structure of the model\n",
    "nn.summary()"
   ]
  },
  {
   "cell_type": "code",
   "execution_count": 33,
   "metadata": {
    "colab": {
     "base_uri": "https://localhost:8080/"
    },
    "id": "Km33q_5_4bnR",
    "outputId": "b9a9af5d-f70e-4ee7-9cfa-78e34987aafd"
   },
   "outputs": [
    {
     "name": "stdout",
     "output_type": "stream",
     "text": [
      "Scale Data = Y\n"
     ]
    }
   ],
   "source": [
    "print(f\"Scale Data = {scale_data}\")"
   ]
  },
  {
   "cell_type": "code",
   "execution_count": 34,
   "metadata": {
    "colab": {
     "base_uri": "https://localhost:8080/"
    },
    "id": "7EnLqgn0_ky7",
    "outputId": "8e24cb82-cfb8-4879-8828-1c78ca3f5090"
   },
   "outputs": [
    {
     "name": "stdout",
     "output_type": "stream",
     "text": [
      "Epoch 1/20\n",
      "102/102 [==============================] - 1s 1ms/step - loss: 0.5524 - accuracy: 0.7659\n",
      "Epoch 2/20\n",
      "102/102 [==============================] - 0s 1ms/step - loss: 0.5330 - accuracy: 0.7714\n",
      "Epoch 3/20\n",
      "102/102 [==============================] - 0s 1ms/step - loss: 0.5311 - accuracy: 0.7714\n",
      "Epoch 4/20\n",
      "102/102 [==============================] - 0s 1ms/step - loss: 0.5221 - accuracy: 0.7714\n",
      "Epoch 5/20\n",
      "102/102 [==============================] - 0s 1ms/step - loss: 0.5178 - accuracy: 0.7714\n",
      "Epoch 6/20\n",
      "102/102 [==============================] - 0s 1ms/step - loss: 0.5184 - accuracy: 0.7714\n",
      "Epoch 7/20\n",
      "102/102 [==============================] - 0s 1ms/step - loss: 0.5122 - accuracy: 0.7714\n",
      "Epoch 8/20\n",
      "102/102 [==============================] - 0s 1ms/step - loss: 0.5102 - accuracy: 0.7714\n",
      "Epoch 9/20\n",
      "102/102 [==============================] - 0s 1ms/step - loss: 0.5083 - accuracy: 0.7714\n",
      "Epoch 10/20\n",
      "102/102 [==============================] - 0s 1ms/step - loss: 0.5079 - accuracy: 0.7714\n",
      "Epoch 11/20\n",
      "102/102 [==============================] - 0s 1ms/step - loss: 0.5052 - accuracy: 0.7714\n",
      "Epoch 12/20\n",
      "102/102 [==============================] - 0s 1ms/step - loss: 0.5033 - accuracy: 0.7714\n",
      "Epoch 13/20\n",
      "102/102 [==============================] - 0s 1ms/step - loss: 0.5018 - accuracy: 0.7714\n",
      "Epoch 14/20\n",
      "102/102 [==============================] - 0s 1ms/step - loss: 0.5003 - accuracy: 0.7714\n",
      "Epoch 15/20\n",
      "102/102 [==============================] - 0s 1ms/step - loss: 0.4982 - accuracy: 0.7714\n",
      "Epoch 16/20\n",
      "102/102 [==============================] - 0s 1ms/step - loss: 0.4993 - accuracy: 0.7714\n",
      "Epoch 17/20\n",
      "102/102 [==============================] - 0s 1ms/step - loss: 0.4967 - accuracy: 0.7711\n",
      "Epoch 18/20\n",
      "102/102 [==============================] - 0s 1ms/step - loss: 0.4945 - accuracy: 0.7699\n",
      "Epoch 19/20\n",
      "102/102 [==============================] - 0s 1ms/step - loss: 0.4976 - accuracy: 0.7708\n",
      "Epoch 20/20\n",
      "102/102 [==============================] - 0s 1ms/step - loss: 0.4947 - accuracy: 0.7684\n"
     ]
    }
   ],
   "source": [
    "# Compile the model\n",
    "nn.compile(loss=\"binary_crossentropy\", optimizer=\"adam\", metrics=[\"accuracy\"])\n",
    "# Train the model\n",
    "fit_model = nn.fit(X_train_scaled,y_train,epochs=num_epochs)"
   ]
  },
  {
   "cell_type": "code",
   "execution_count": 35,
   "metadata": {
    "colab": {
     "base_uri": "https://localhost:8080/"
    },
    "id": "ZBUL_NWQ7UGJ",
    "outputId": "8aa15cc4-561e-4d95-e0f7-fa50f0d43e50"
   },
   "outputs": [
    {
     "name": "stdout",
     "output_type": "stream",
     "text": [
      "34/34 - 0s - loss: 0.4835 - accuracy: 0.7923 - 94ms/epoch - 3ms/step\n",
      "Loss: 0.4834723174571991, Accuracy: 0.7922794222831726\n",
      "Scale Data = Y\n",
      "activation_type = relu\n",
      "num_epochs = 20\n",
      "num_layers = 3\n",
      "Layer 1 Nodes = 165\n",
      "Layer 2 Nodes = 140\n",
      "Layer 3 Nodes: 180\n"
     ]
    }
   ],
   "source": [
    "# Evaluate the model using the test data\n",
    "model_loss, model_accuracy = nn.evaluate(X_test_scaled,y_test,verbose=2)\n",
    "print(f\"Loss: {model_loss}, Accuracy: {model_accuracy}\")\n",
    "print(f\"Scale Data = {scale_data}\")\n",
    "print(f\"activation_type = {activation_type}\")\n",
    "print(f\"num_epochs = {num_epochs}\")\n",
    "print(f\"num_layers = {num_layers}\")\n",
    "print(f\"Layer 1 Nodes = {hidden_nodes_layer1}\")\n",
    "if num_layers >= 2:\n",
    "  print(f\"Layer 2 Nodes = {hidden_nodes_layer2}\")\n",
    "if num_layers >= 3:\n",
    "  print(f\"Layer 3 Nodes: {hidden_nodes_layer3}\")\n",
    "if num_layers >= 4:\n",
    "  print(f\"Layer 4 Nodes = {hidden_nodes_layer4}\")\n",
    "if num_layers >= 5:\n",
    "  print(f\"Layer 5 Nodes = {hidden_nodes_layer5}\")\n",
    "if num_layers >= 6:\n",
    "  print(f\"Layer 6 Nodes = {hidden_nodes_layer6}\")\n",
    "if num_layers >= 7:\n",
    "  print(f\"Layer 7 Nodes = {hidden_nodes_layer7}\")\n",
    "if num_layers >= 8:\n",
    "  print(f\"Layer 8 Nodes = {hidden_nodes_layer8}\")\n",
    "if num_layers >= 9:\n",
    "  print(f\"Layer 9 Nodes = {hidden_nodes_layer9}\")\n",
    "if num_layers >= 10:\n",
    "  print(f\"Layer 10 Nodes = {hidden_nodes_layer10}\")"
   ]
  }
 ],
 "metadata": {
  "colab": {
   "provenance": []
  },
  "kernelspec": {
   "display_name": "Python 3 (ipykernel)",
   "language": "python",
   "name": "python3"
  },
  "language_info": {
   "codemirror_mode": {
    "name": "ipython",
    "version": 3
   },
   "file_extension": ".py",
   "mimetype": "text/x-python",
   "name": "python",
   "nbconvert_exporter": "python",
   "pygments_lexer": "ipython3",
   "version": "3.9.13"
  }
 },
 "nbformat": 4,
 "nbformat_minor": 1
}
